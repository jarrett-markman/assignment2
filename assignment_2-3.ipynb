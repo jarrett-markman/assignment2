{
 "cells": [
  {
   "cell_type": "markdown",
   "id": "87b91d83",
   "metadata": {},
   "source": [
    "# Assignment 2\n",
    "### Understanding Uncertainty\n",
    "### Due 9/12\n",
    "### Jarrett Markman"
   ]
  },
  {
   "cell_type": "markdown",
   "id": "380e339f",
   "metadata": {},
   "source": [
    "1. 'State Bottle Retail' is the price at which the bottle is sold, while 'State Bottle Cost' is the price the state pays for a bottle.\n",
    "- How do you define the most profitable item? Why? Explain your thinking.\n",
    "- Use `.groupby` calculations to determine the most profitable liquors sold in Iowa.\n",
    "- Make a plot of the top liquors."
   ]
  },
  {
   "cell_type": "markdown",
   "id": "ef5120e1",
   "metadata": {},
   "source": [
    "There are a variety of variables present in the dataset that can determine which item is the most profitable. You can use volume, how much the bottle costs, how much the bottle is sold for, or the individual sale itself based upon the item. \n",
    "\n",
    "In measuring which item is the most profitable item, the most compelling variables are the the sale itself and how much it costs to produce the bottle. I can create a \"profit\" varaible by subtracting the cost of production (individual bottle cost $*$ number of bottles sold) from the overall \"Sale\". \n",
    "\n",
    "Then based on each item, I can calculate and identify the item that has earned the highest profit. "
   ]
  },
  {
   "cell_type": "code",
   "execution_count": 190,
   "id": "5b22c86a",
   "metadata": {},
   "outputs": [
    {
     "ename": "FileNotFoundError",
     "evalue": "[Errno 2] No such file or directory: 'iowa.csv'",
     "output_type": "error",
     "traceback": [
      "\u001b[31m---------------------------------------------------------------------------\u001b[39m",
      "\u001b[31mFileNotFoundError\u001b[39m                         Traceback (most recent call last)",
      "\u001b[36mCell\u001b[39m\u001b[36m \u001b[39m\u001b[32mIn[190]\u001b[39m\u001b[32m, line 4\u001b[39m\n\u001b[32m      2\u001b[39m \u001b[38;5;28;01mimport\u001b[39;00m\u001b[38;5;250m \u001b[39m\u001b[34;01mpandas\u001b[39;00m\u001b[38;5;250m \u001b[39m\u001b[38;5;28;01mas\u001b[39;00m\u001b[38;5;250m \u001b[39m\u001b[34;01mpd\u001b[39;00m\n\u001b[32m      3\u001b[39m \u001b[38;5;28;01mimport\u001b[39;00m\u001b[38;5;250m \u001b[39m\u001b[34;01mseaborn\u001b[39;00m\u001b[38;5;250m \u001b[39m\u001b[38;5;28;01mas\u001b[39;00m\u001b[38;5;250m \u001b[39m\u001b[34;01msns\u001b[39;00m\n\u001b[32m----> \u001b[39m\u001b[32m4\u001b[39m df = \u001b[43mpd\u001b[49m\u001b[43m.\u001b[49m\u001b[43mread_csv\u001b[49m\u001b[43m(\u001b[49m\u001b[33;43m\"\u001b[39;49m\u001b[33;43miowa.csv\u001b[39;49m\u001b[33;43m\"\u001b[39;49m\u001b[43m)\u001b[49m\n\u001b[32m      5\u001b[39m \u001b[38;5;66;03m# Create a new \"profit\" column (sale - cost of production for all bottles sold)\u001b[39;00m\n\u001b[32m      6\u001b[39m \u001b[38;5;66;03m# Assuming state bottle cost is per individual bottle\u001b[39;00m\n\u001b[32m      7\u001b[39m df[\u001b[33m'\u001b[39m\u001b[33mprofit\u001b[39m\u001b[33m'\u001b[39m] = df[\u001b[33m'\u001b[39m\u001b[33mSale (Dollars)\u001b[39m\u001b[33m'\u001b[39m] - (df[\u001b[33m'\u001b[39m\u001b[33mState Bottle Cost\u001b[39m\u001b[33m'\u001b[39m] * df[\u001b[33m'\u001b[39m\u001b[33mBottles Sold\u001b[39m\u001b[33m'\u001b[39m])\n",
      "\u001b[36mFile \u001b[39m\u001b[32m~/miniconda3/envs/ds6001/lib/python3.13/site-packages/pandas/io/parsers/readers.py:1026\u001b[39m, in \u001b[36mread_csv\u001b[39m\u001b[34m(filepath_or_buffer, sep, delimiter, header, names, index_col, usecols, dtype, engine, converters, true_values, false_values, skipinitialspace, skiprows, skipfooter, nrows, na_values, keep_default_na, na_filter, verbose, skip_blank_lines, parse_dates, infer_datetime_format, keep_date_col, date_parser, date_format, dayfirst, cache_dates, iterator, chunksize, compression, thousands, decimal, lineterminator, quotechar, quoting, doublequote, escapechar, comment, encoding, encoding_errors, dialect, on_bad_lines, delim_whitespace, low_memory, memory_map, float_precision, storage_options, dtype_backend)\u001b[39m\n\u001b[32m   1013\u001b[39m kwds_defaults = _refine_defaults_read(\n\u001b[32m   1014\u001b[39m     dialect,\n\u001b[32m   1015\u001b[39m     delimiter,\n\u001b[32m   (...)\u001b[39m\u001b[32m   1022\u001b[39m     dtype_backend=dtype_backend,\n\u001b[32m   1023\u001b[39m )\n\u001b[32m   1024\u001b[39m kwds.update(kwds_defaults)\n\u001b[32m-> \u001b[39m\u001b[32m1026\u001b[39m \u001b[38;5;28;01mreturn\u001b[39;00m \u001b[43m_read\u001b[49m\u001b[43m(\u001b[49m\u001b[43mfilepath_or_buffer\u001b[49m\u001b[43m,\u001b[49m\u001b[43m \u001b[49m\u001b[43mkwds\u001b[49m\u001b[43m)\u001b[49m\n",
      "\u001b[36mFile \u001b[39m\u001b[32m~/miniconda3/envs/ds6001/lib/python3.13/site-packages/pandas/io/parsers/readers.py:620\u001b[39m, in \u001b[36m_read\u001b[39m\u001b[34m(filepath_or_buffer, kwds)\u001b[39m\n\u001b[32m    617\u001b[39m _validate_names(kwds.get(\u001b[33m\"\u001b[39m\u001b[33mnames\u001b[39m\u001b[33m\"\u001b[39m, \u001b[38;5;28;01mNone\u001b[39;00m))\n\u001b[32m    619\u001b[39m \u001b[38;5;66;03m# Create the parser.\u001b[39;00m\n\u001b[32m--> \u001b[39m\u001b[32m620\u001b[39m parser = \u001b[43mTextFileReader\u001b[49m\u001b[43m(\u001b[49m\u001b[43mfilepath_or_buffer\u001b[49m\u001b[43m,\u001b[49m\u001b[43m \u001b[49m\u001b[43m*\u001b[49m\u001b[43m*\u001b[49m\u001b[43mkwds\u001b[49m\u001b[43m)\u001b[49m\n\u001b[32m    622\u001b[39m \u001b[38;5;28;01mif\u001b[39;00m chunksize \u001b[38;5;129;01mor\u001b[39;00m iterator:\n\u001b[32m    623\u001b[39m     \u001b[38;5;28;01mreturn\u001b[39;00m parser\n",
      "\u001b[36mFile \u001b[39m\u001b[32m~/miniconda3/envs/ds6001/lib/python3.13/site-packages/pandas/io/parsers/readers.py:1620\u001b[39m, in \u001b[36mTextFileReader.__init__\u001b[39m\u001b[34m(self, f, engine, **kwds)\u001b[39m\n\u001b[32m   1617\u001b[39m     \u001b[38;5;28mself\u001b[39m.options[\u001b[33m\"\u001b[39m\u001b[33mhas_index_names\u001b[39m\u001b[33m\"\u001b[39m] = kwds[\u001b[33m\"\u001b[39m\u001b[33mhas_index_names\u001b[39m\u001b[33m\"\u001b[39m]\n\u001b[32m   1619\u001b[39m \u001b[38;5;28mself\u001b[39m.handles: IOHandles | \u001b[38;5;28;01mNone\u001b[39;00m = \u001b[38;5;28;01mNone\u001b[39;00m\n\u001b[32m-> \u001b[39m\u001b[32m1620\u001b[39m \u001b[38;5;28mself\u001b[39m._engine = \u001b[38;5;28;43mself\u001b[39;49m\u001b[43m.\u001b[49m\u001b[43m_make_engine\u001b[49m\u001b[43m(\u001b[49m\u001b[43mf\u001b[49m\u001b[43m,\u001b[49m\u001b[43m \u001b[49m\u001b[38;5;28;43mself\u001b[39;49m\u001b[43m.\u001b[49m\u001b[43mengine\u001b[49m\u001b[43m)\u001b[49m\n",
      "\u001b[36mFile \u001b[39m\u001b[32m~/miniconda3/envs/ds6001/lib/python3.13/site-packages/pandas/io/parsers/readers.py:1880\u001b[39m, in \u001b[36mTextFileReader._make_engine\u001b[39m\u001b[34m(self, f, engine)\u001b[39m\n\u001b[32m   1878\u001b[39m     \u001b[38;5;28;01mif\u001b[39;00m \u001b[33m\"\u001b[39m\u001b[33mb\u001b[39m\u001b[33m\"\u001b[39m \u001b[38;5;129;01mnot\u001b[39;00m \u001b[38;5;129;01min\u001b[39;00m mode:\n\u001b[32m   1879\u001b[39m         mode += \u001b[33m\"\u001b[39m\u001b[33mb\u001b[39m\u001b[33m\"\u001b[39m\n\u001b[32m-> \u001b[39m\u001b[32m1880\u001b[39m \u001b[38;5;28mself\u001b[39m.handles = \u001b[43mget_handle\u001b[49m\u001b[43m(\u001b[49m\n\u001b[32m   1881\u001b[39m \u001b[43m    \u001b[49m\u001b[43mf\u001b[49m\u001b[43m,\u001b[49m\n\u001b[32m   1882\u001b[39m \u001b[43m    \u001b[49m\u001b[43mmode\u001b[49m\u001b[43m,\u001b[49m\n\u001b[32m   1883\u001b[39m \u001b[43m    \u001b[49m\u001b[43mencoding\u001b[49m\u001b[43m=\u001b[49m\u001b[38;5;28;43mself\u001b[39;49m\u001b[43m.\u001b[49m\u001b[43moptions\u001b[49m\u001b[43m.\u001b[49m\u001b[43mget\u001b[49m\u001b[43m(\u001b[49m\u001b[33;43m\"\u001b[39;49m\u001b[33;43mencoding\u001b[39;49m\u001b[33;43m\"\u001b[39;49m\u001b[43m,\u001b[49m\u001b[43m \u001b[49m\u001b[38;5;28;43;01mNone\u001b[39;49;00m\u001b[43m)\u001b[49m\u001b[43m,\u001b[49m\n\u001b[32m   1884\u001b[39m \u001b[43m    \u001b[49m\u001b[43mcompression\u001b[49m\u001b[43m=\u001b[49m\u001b[38;5;28;43mself\u001b[39;49m\u001b[43m.\u001b[49m\u001b[43moptions\u001b[49m\u001b[43m.\u001b[49m\u001b[43mget\u001b[49m\u001b[43m(\u001b[49m\u001b[33;43m\"\u001b[39;49m\u001b[33;43mcompression\u001b[39;49m\u001b[33;43m\"\u001b[39;49m\u001b[43m,\u001b[49m\u001b[43m \u001b[49m\u001b[38;5;28;43;01mNone\u001b[39;49;00m\u001b[43m)\u001b[49m\u001b[43m,\u001b[49m\n\u001b[32m   1885\u001b[39m \u001b[43m    \u001b[49m\u001b[43mmemory_map\u001b[49m\u001b[43m=\u001b[49m\u001b[38;5;28;43mself\u001b[39;49m\u001b[43m.\u001b[49m\u001b[43moptions\u001b[49m\u001b[43m.\u001b[49m\u001b[43mget\u001b[49m\u001b[43m(\u001b[49m\u001b[33;43m\"\u001b[39;49m\u001b[33;43mmemory_map\u001b[39;49m\u001b[33;43m\"\u001b[39;49m\u001b[43m,\u001b[49m\u001b[43m \u001b[49m\u001b[38;5;28;43;01mFalse\u001b[39;49;00m\u001b[43m)\u001b[49m\u001b[43m,\u001b[49m\n\u001b[32m   1886\u001b[39m \u001b[43m    \u001b[49m\u001b[43mis_text\u001b[49m\u001b[43m=\u001b[49m\u001b[43mis_text\u001b[49m\u001b[43m,\u001b[49m\n\u001b[32m   1887\u001b[39m \u001b[43m    \u001b[49m\u001b[43merrors\u001b[49m\u001b[43m=\u001b[49m\u001b[38;5;28;43mself\u001b[39;49m\u001b[43m.\u001b[49m\u001b[43moptions\u001b[49m\u001b[43m.\u001b[49m\u001b[43mget\u001b[49m\u001b[43m(\u001b[49m\u001b[33;43m\"\u001b[39;49m\u001b[33;43mencoding_errors\u001b[39;49m\u001b[33;43m\"\u001b[39;49m\u001b[43m,\u001b[49m\u001b[43m \u001b[49m\u001b[33;43m\"\u001b[39;49m\u001b[33;43mstrict\u001b[39;49m\u001b[33;43m\"\u001b[39;49m\u001b[43m)\u001b[49m\u001b[43m,\u001b[49m\n\u001b[32m   1888\u001b[39m \u001b[43m    \u001b[49m\u001b[43mstorage_options\u001b[49m\u001b[43m=\u001b[49m\u001b[38;5;28;43mself\u001b[39;49m\u001b[43m.\u001b[49m\u001b[43moptions\u001b[49m\u001b[43m.\u001b[49m\u001b[43mget\u001b[49m\u001b[43m(\u001b[49m\u001b[33;43m\"\u001b[39;49m\u001b[33;43mstorage_options\u001b[39;49m\u001b[33;43m\"\u001b[39;49m\u001b[43m,\u001b[49m\u001b[43m \u001b[49m\u001b[38;5;28;43;01mNone\u001b[39;49;00m\u001b[43m)\u001b[49m\u001b[43m,\u001b[49m\n\u001b[32m   1889\u001b[39m \u001b[43m\u001b[49m\u001b[43m)\u001b[49m\n\u001b[32m   1890\u001b[39m \u001b[38;5;28;01massert\u001b[39;00m \u001b[38;5;28mself\u001b[39m.handles \u001b[38;5;129;01mis\u001b[39;00m \u001b[38;5;129;01mnot\u001b[39;00m \u001b[38;5;28;01mNone\u001b[39;00m\n\u001b[32m   1891\u001b[39m f = \u001b[38;5;28mself\u001b[39m.handles.handle\n",
      "\u001b[36mFile \u001b[39m\u001b[32m~/miniconda3/envs/ds6001/lib/python3.13/site-packages/pandas/io/common.py:873\u001b[39m, in \u001b[36mget_handle\u001b[39m\u001b[34m(path_or_buf, mode, encoding, compression, memory_map, is_text, errors, storage_options)\u001b[39m\n\u001b[32m    868\u001b[39m \u001b[38;5;28;01melif\u001b[39;00m \u001b[38;5;28misinstance\u001b[39m(handle, \u001b[38;5;28mstr\u001b[39m):\n\u001b[32m    869\u001b[39m     \u001b[38;5;66;03m# Check whether the filename is to be opened in binary mode.\u001b[39;00m\n\u001b[32m    870\u001b[39m     \u001b[38;5;66;03m# Binary mode does not support 'encoding' and 'newline'.\u001b[39;00m\n\u001b[32m    871\u001b[39m     \u001b[38;5;28;01mif\u001b[39;00m ioargs.encoding \u001b[38;5;129;01mand\u001b[39;00m \u001b[33m\"\u001b[39m\u001b[33mb\u001b[39m\u001b[33m\"\u001b[39m \u001b[38;5;129;01mnot\u001b[39;00m \u001b[38;5;129;01min\u001b[39;00m ioargs.mode:\n\u001b[32m    872\u001b[39m         \u001b[38;5;66;03m# Encoding\u001b[39;00m\n\u001b[32m--> \u001b[39m\u001b[32m873\u001b[39m         handle = \u001b[38;5;28;43mopen\u001b[39;49m\u001b[43m(\u001b[49m\n\u001b[32m    874\u001b[39m \u001b[43m            \u001b[49m\u001b[43mhandle\u001b[49m\u001b[43m,\u001b[49m\n\u001b[32m    875\u001b[39m \u001b[43m            \u001b[49m\u001b[43mioargs\u001b[49m\u001b[43m.\u001b[49m\u001b[43mmode\u001b[49m\u001b[43m,\u001b[49m\n\u001b[32m    876\u001b[39m \u001b[43m            \u001b[49m\u001b[43mencoding\u001b[49m\u001b[43m=\u001b[49m\u001b[43mioargs\u001b[49m\u001b[43m.\u001b[49m\u001b[43mencoding\u001b[49m\u001b[43m,\u001b[49m\n\u001b[32m    877\u001b[39m \u001b[43m            \u001b[49m\u001b[43merrors\u001b[49m\u001b[43m=\u001b[49m\u001b[43merrors\u001b[49m\u001b[43m,\u001b[49m\n\u001b[32m    878\u001b[39m \u001b[43m            \u001b[49m\u001b[43mnewline\u001b[49m\u001b[43m=\u001b[49m\u001b[33;43m\"\u001b[39;49m\u001b[33;43m\"\u001b[39;49m\u001b[43m,\u001b[49m\n\u001b[32m    879\u001b[39m \u001b[43m        \u001b[49m\u001b[43m)\u001b[49m\n\u001b[32m    880\u001b[39m     \u001b[38;5;28;01melse\u001b[39;00m:\n\u001b[32m    881\u001b[39m         \u001b[38;5;66;03m# Binary mode\u001b[39;00m\n\u001b[32m    882\u001b[39m         handle = \u001b[38;5;28mopen\u001b[39m(handle, ioargs.mode)\n",
      "\u001b[31mFileNotFoundError\u001b[39m: [Errno 2] No such file or directory: 'iowa.csv'"
     ]
    }
   ],
   "source": [
    "# Import pandas & seaborn and read in data\n",
    "import pandas as pd\n",
    "import seaborn as sns\n",
    "df = pd.read_csv(\"iowa.csv\")\n",
    "# Create a new \"profit\" column (sale - cost of production for all bottles sold)\n",
    "# Assuming state bottle cost is per individual bottle\n",
    "df['profit'] = df['Sale (Dollars)'] - (df['State Bottle Cost'] * df['Bottles Sold'])\n",
    "# Find the item with the highest amount of total profit\n",
    "bottles = df.groupby('Item Description').agg({'profit': 'sum'}).sort_values('profit', ascending=False)\n",
    "top_bottles = bottles[:10] # Top 10 bottles\n",
    "sns.barplot(top_bottles[\"profit\"], orient=\"h\").set_title(\"Top 10 Liquor Items by Profit\")"
   ]
  },
  {
   "cell_type": "markdown",
   "id": "63593bde",
   "metadata": {},
   "source": [
    "2. This question is to further explore broadcasting in NumPy.\n",
    "\n",
    "- In the first code chunk below, there are two vectors, $x$ and $y$. What happens when you try to subtract them?\n",
    "- Instead, try `x.reshape(-1,1)-y.reshape(1,-1)`. What do you get?\n",
    "- Try `x.reshape(1,-1)-y.reshape(-1,1)`. Compare the results to your previous answer.\n",
    "- Write two double for-loops to replicate the results of the previous two answers. \n",
    "- Clearly explain how `x.reshape(1,-1)` and `x.reshape(-1,1)` change $x$"
   ]
  },
  {
   "cell_type": "code",
   "execution_count": 103,
   "id": "e29b3aac",
   "metadata": {},
   "outputs": [],
   "source": [
    "import numpy as np\n",
    "\n",
    "x = np.array([1,3,5])\n",
    "y = np.array([2,5])"
   ]
  },
  {
   "cell_type": "code",
   "execution_count": 104,
   "id": "5e305bd4",
   "metadata": {},
   "outputs": [
    {
     "ename": "ValueError",
     "evalue": "operands could not be broadcast together with shapes (3,) (2,) ",
     "output_type": "error",
     "traceback": [
      "\u001b[31m---------------------------------------------------------------------------\u001b[39m",
      "\u001b[31mValueError\u001b[39m                                Traceback (most recent call last)",
      "\u001b[36mCell\u001b[39m\u001b[36m \u001b[39m\u001b[32mIn[104]\u001b[39m\u001b[32m, line 1\u001b[39m\n\u001b[32m----> \u001b[39m\u001b[32m1\u001b[39m \u001b[43mx\u001b[49m\u001b[43m-\u001b[49m\u001b[43my\u001b[49m\n",
      "\u001b[31mValueError\u001b[39m: operands could not be broadcast together with shapes (3,) (2,) "
     ]
    }
   ],
   "source": [
    "x-y"
   ]
  },
  {
   "cell_type": "markdown",
   "id": "b3ed6f72",
   "metadata": {},
   "source": [
    "If you subtract y from x, Python returns a \"ValueError\" because the matrices are of different shapes"
   ]
  },
  {
   "cell_type": "code",
   "execution_count": null,
   "id": "cab8d1eb",
   "metadata": {},
   "outputs": [
    {
     "data": {
      "text/plain": [
       "array([[-1, -4],\n",
       "       [ 1, -2],\n",
       "       [ 3,  0]])"
      ]
     },
     "execution_count": 37,
     "metadata": {},
     "output_type": "execute_result"
    }
   ],
   "source": [
    "x.reshape(-1,1)-y.reshape(1,-1)"
   ]
  },
  {
   "cell_type": "markdown",
   "id": "afa6fd64",
   "metadata": {},
   "source": [
    "x.reshape(-1,1), Creates a 3 row by 1 column matrix instead of a 3 element 1-dimensional array. y.reshape(1, -1) creates a 1 row by 2 column matrix instaead of a 2 element 1-dimensional array. This allows Python to perform matrix calculations, specifically subtracting all the columns from the matrix in y, from the individual rows in the matrix x, creating a new 3x2 matrix. "
   ]
  },
  {
   "cell_type": "code",
   "execution_count": null,
   "id": "af40deda",
   "metadata": {},
   "outputs": [
    {
     "data": {
      "text/plain": [
       "array([[-1,  1,  3],\n",
       "       [-4, -2,  0]])"
      ]
     },
     "execution_count": 38,
     "metadata": {},
     "output_type": "execute_result"
    }
   ],
   "source": [
    "x.reshape(1, -1)-y.reshape(-1, 1)"
   ]
  },
  {
   "cell_type": "markdown",
   "id": "9920ce69",
   "metadata": {},
   "source": [
    "In this code block, reshaping x and y do perform the opposite matrix manipulation. Instead of modifying x into a 3x1 matrix, the reshape command modifies it into a 1x3 matrix. Instead of modifying y into a 1x2 matrix, the reshape command here modifies it to a 2x1 matrix. This allows Python to perform matrix calculations, specifically substracting in creating a new 2x3 matrix, but subtracting the row matrix values in x by the column matrix values in y. "
   ]
  },
  {
   "cell_type": "code",
   "execution_count": null,
   "id": "6ee21aa6",
   "metadata": {},
   "outputs": [
    {
     "data": {
      "text/plain": [
       "2"
      ]
     },
     "execution_count": 66,
     "metadata": {},
     "output_type": "execute_result"
    }
   ],
   "source": [
    "y.size"
   ]
  },
  {
   "cell_type": "code",
   "execution_count": null,
   "id": "6974de63",
   "metadata": {},
   "outputs": [],
   "source": [
    "# Empty np array\n",
    "res1 = np.zeros((x.size, y.size))\n",
    "# For loop for first reshape\n",
    "for i in range(x.size):\n",
    "    for j in range(y.size):\n",
    "        res1[i, j] = x[i] - y[j]\n",
    "res1"
   ]
  },
  {
   "cell_type": "code",
   "execution_count": null,
   "id": "2a2eb259",
   "metadata": {},
   "outputs": [],
   "source": [
    "#Empty np array\n",
    "res2 = np.zeros((y.size, x.size))\n",
    "# For loop for second reshape\n",
    "for i in range(y.size):\n",
    "    for j in range(x.size):\n",
    "        res2[i, j] = x[j] - y[i]\n",
    "res2"
   ]
  },
  {
   "cell_type": "markdown",
   "id": "b29f1d35",
   "metadata": {},
   "source": [
    "3. The indicator function $\\mathbb{I}\\{ x \\le z \\}$ takes the value 0 if $x>z$ and 1 if $x \\le z$ is true, or\n",
    "$$\n",
    "\\mathbb{I}\\{x \\le z\\} = \\begin{cases}\n",
    "0, &x > z \\\\\n",
    "1, &x \\le z\n",
    "\\end{cases}\n",
    "$$\n",
    "\n",
    "- For $x = 3$, plot the indicator function for any $z$\n",
    "- Explain how $ 1- \\mathbb{I}\\{ x \\le z \\} = \\mathbb{I}\\{ x > z \\}$. Drawing a plot might help, or looking at the definition given above.\n",
    "- The code below generates a random sample for different numbers of observations, $N = 3, 30, 300, 3000 $. Write a function to compute the ECDF curve for each sample, and plot your results.\n",
    "- Describe in your own words what happens to the ECDF qualitatively as the sample size $N$ increases"
   ]
  },
  {
   "cell_type": "code",
   "execution_count": null,
   "id": "751c7c4a",
   "metadata": {},
   "outputs": [
    {
     "data": {
      "image/png": "[encoded data removed]",
      "text/plain": [
       "<Figure size 640x480 with 1 Axes>"
      ]
     },
     "metadata": {},
     "output_type": "display_data"
    }
   ],
   "source": [
    "import matplotlib.pyplot as plt\n",
    "\n",
    "x_fixed = 3\n",
    "grid = np.linspace(0, 10, 500)  # Example grid\n",
    "\n",
    "def indicator(x, grid):\n",
    "    return (x <= grid).astype(int)\n",
    "\n",
    "F_x = indicator(x_fixed, grid)\n",
    "\n",
    "sns.lineplot(x=grid, y=F_x)\n",
    "plt.title(r'Indicator Function Plot for $x=3$')\n",
    "plt.xlabel('z')\n",
    "plt.ylabel('Indicator Value')\n",
    "plt.ylim(-0.1, 1.1)\n",
    "plt.grid(True)\n",
    "plt.show()\n"
   ]
  },
  {
   "cell_type": "markdown",
   "id": "a4078fa6",
   "metadata": {},
   "source": [
    "$ 1- \\mathbb{I}\\{ x \\le z \\} = \\mathbb{I}\\{ x > z \\}$ is extremely sound intuitively, because when $x <= z$ is true, $x > z$ must be false. And when $x > z$ is true, $x <= z$ must be false, meaning that at least one of $\\mathbb{I}\\{ x \\le z \\}$ or $\\mathbb{I}\\{ x > z \\}$ are correct every time, and can be described as **complementary events**. \n",
    "\n",
    "This can be further explained based on the indicator function:\n",
    "$$\n",
    "\\mathbb{I}\\{x \\le z\\} = \\begin{cases}\n",
    "0, &x > z \\\\\n",
    "1, &x \\le z\n",
    "\\end{cases}\n",
    "$$\n",
    "\n",
    "$ \\mathbb{I}\\{ x \\le z \\}$ is the opposite of $ \\mathbb{I}\\{ x > z \\}$. So when we perform  $1 - \\mathbb{I}\\{ x \\le z \\}$, we return the opposite value of $\\mathbb{I}\\{ x \\le z \\}$, which in an case will be $\\mathbb{I}\\{ x > z \\}$, because the two cases are **complementary events**. \n",
    "\n",
    "This can additionally be seen in plot above, as (based on the fixed case of $x = 3$) if you subtracted any $z$ value on the plot from $1$, you will return the other $0$ or $1$ value for the inverse function. "
   ]
  },
  {
   "cell_type": "code",
   "execution_count": null,
   "id": "27e117a7",
   "metadata": {},
   "outputs": [
    {
     "data": {
      "text/plain": [
       "<matplotlib.legend.Legend at 0x1219920d0>"
      ]
     },
     "execution_count": 91,
     "metadata": {},
     "output_type": "execute_result"
    },
    {
     "data": {
      "image/png": "[encoded data removed]",
      "text/plain": [
       "<Figure size 640x480 with 1 Axes>"
      ]
     },
     "metadata": {},
     "output_type": "display_data"
    }
   ],
   "source": [
    "rng = np.random.default_rng(100)\n",
    "\n",
    "for N in (3, 30, 300, 3000):\n",
    "    X = rng.normal(0, 1, N)\n",
    "    # ECDF plot goes here:\n",
    "    sns.ecdfplot(X, label=f'N={N}')\n",
    "\n",
    "plt.legend()"
   ]
  },
  {
   "cell_type": "markdown",
   "id": "efb098a9",
   "metadata": {},
   "source": [
    "As $N$ increases, the quality of of the ECDF improves, noticably based upon the shape of the curve, with the shape being much smoother rather than being a much more rigid shape/curve (which can be noticably seen with $N = 3$). The curve becomes much more noticeably smoother when $N=300$ and $N=3000$ as $N$ increases. "
   ]
  },
  {
   "cell_type": "markdown",
   "id": "6c8f1ebb",
   "metadata": {},
   "source": [
    "4. A **quantile** generalizes the concept of the median so that instead of 50% of the mass below and 50% above, the $q$-quantile is the value for which $q$ proportion of the data are below that value and $(1-q)$ proportion of the data are above that value. This is a concept of **order**.\n",
    "\n",
    "- Write a function that computes any quantile without using Numpy's `np.quantile`\n",
    "- Write a function that computes the **Interquartile Range (IQR)** -- the .25 quantile and the .75 quantile, which brackets 50% of the data -- and the **whiskers**: $\\pm 1.5 \\times \\text{IQR}$ from the edges of the IQR\n",
    "- Write a function that computes a five-number summary and values for a boxplot: the minimum, the .25 quantile, the median, the .75 quantile, and the maximum, and the whiskers\n",
    "- Anything outside the whiskers is an **outlier**; write a function that returns a Boolean vector indicating if the observations are outliers.\n",
    "- For a numeric variable of your choice from one of the datasets, apply your functions from above, and compare your answers with `sns.boxplot` and `df.describe`. "
   ]
  },
  {
   "cell_type": "code",
   "execution_count": 122,
   "id": "56ba25e3",
   "metadata": {},
   "outputs": [],
   "source": [
    "# Compute quantile function\n",
    "def compute_quantile(num_list, quantile):\n",
    "    sorted_list = sorted(num_list)\n",
    "    n = len(sorted_list)\n",
    "    idx = quantile * (n - 1)\n",
    "    lower = int(idx)\n",
    "    upper = lower + 1\n",
    "    weight = idx - lower\n",
    "    return sorted_list[lower] * (1 - weight) + sorted_list[upper] * weight"
   ]
  },
  {
   "cell_type": "code",
   "execution_count": 130,
   "id": "ced61469",
   "metadata": {},
   "outputs": [],
   "source": [
    "# Compute IQR function (returns iqr, 25%, 75%, lower whisker, upper whisker)\n",
    "def compute_iqr(num_list):\n",
    "    q1 = compute_quantile(num_list, 0.25)\n",
    "    q3 = compute_quantile(num_list, 0.75)\n",
    "    iqr = q3 - q1\n",
    "    lower = q1 - 1.5 * iqr\n",
    "    upper = q3 + 1.5 * iqr\n",
    "    return iqr, q1, q3, lower, upper"
   ]
  },
  {
   "cell_type": "code",
   "execution_count": 148,
   "id": "54bf80f6",
   "metadata": {},
   "outputs": [],
   "source": [
    "# Compute function that returns a five-number summary and values from a boxplot (min, max, .25, .75, minimum, median, whiskers)\n",
    "def summary(num_list):\n",
    "    min = np.min(num_list)\n",
    "    max = np.max(num_list)\n",
    "    median = compute_quantile(num_list, 0.5)\n",
    "    iqr, q1, q3, lower, upper = compute_iqr(num_list)\n",
    "    return print(f\"min: {min}\", \n",
    "                 f\"q1: {q1}\", \n",
    "                 f\"median: {median}\", \n",
    "                 f\"q3: {q3}\",\n",
    "                 f\"max: {max}\", \n",
    "                 f\"lower: {lower}\", \n",
    "                 f\"upper: {upper}\", sep = \"\\n\")"
   ]
  },
  {
   "cell_type": "code",
   "execution_count": 133,
   "id": "95c50c46",
   "metadata": {},
   "outputs": [],
   "source": [
    "# Function that tests if a given value is an outlier\n",
    "def outlier(num_list):\n",
    "    iqr, q1, q3, lower, upper = compute_iqr(num_list)\n",
    "    for i in num_list:\n",
    "        if num_list[i] < lower or num_list[i] > upper:\n",
    "            return True\n",
    "        else:\n",
    "            return False"
   ]
  },
  {
   "cell_type": "code",
   "execution_count": 151,
   "id": "0c06edbf",
   "metadata": {},
   "outputs": [
    {
     "name": "stdout",
     "output_type": "stream",
     "text": [
      "min: -60\n",
      "q1: 3.0\n",
      "median: 6.0\n",
      "q3: 12.0\n",
      "max: 2400\n",
      "lower: -10.5\n",
      "upper: 25.5\n"
     ]
    }
   ],
   "source": [
    "summary(df['Bottles Sold'])"
   ]
  },
  {
   "cell_type": "code",
   "execution_count": 160,
   "id": "1c7a839b",
   "metadata": {},
   "outputs": [
    {
     "data": {
      "text/plain": [
       "count    159904.000000\n",
       "mean         10.883336\n",
       "std          28.042635\n",
       "min         -60.000000\n",
       "25%           3.000000\n",
       "50%           6.000000\n",
       "75%          12.000000\n",
       "max        2400.000000\n",
       "Name: Bottles Sold, dtype: float64"
      ]
     },
     "execution_count": 160,
     "metadata": {},
     "output_type": "execute_result"
    }
   ],
   "source": [
    "df['Bottles Sold'].describe()"
   ]
  },
  {
   "cell_type": "code",
   "execution_count": 183,
   "id": "c925bfe2",
   "metadata": {},
   "outputs": [],
   "source": [
    "# Get upper and lower bounds for whisker\n",
    "iqr_values = compute_iqr(df['Bottles Sold'])\n",
    "lower = iqr_values[3]\n",
    "upper = iqr_values[4]\n",
    "# Filter out outliers\n",
    "plot_df = df[(df['Bottles Sold'] < upper) & (df['Bottles Sold'] > lower)]"
   ]
  },
  {
   "cell_type": "markdown",
   "id": "48ca1d7f",
   "metadata": {},
   "source": [
    "#### Boxplot with Outliers"
   ]
  },
  {
   "cell_type": "code",
   "execution_count": 184,
   "id": "6dd88295",
   "metadata": {},
   "outputs": [
    {
     "data": {
      "text/plain": [
       "<Axes: ylabel='Bottles Sold'>"
      ]
     },
     "execution_count": 184,
     "metadata": {},
     "output_type": "execute_result"
    },
    {
     "data": {
      "image/png": "[encoded data removed]",
      "text/plain": [
       "<Figure size 640x480 with 1 Axes>"
      ]
     },
     "metadata": {},
     "output_type": "display_data"
    }
   ],
   "source": [
    "sns.boxplot(y = 'Bottles Sold', data = df)"
   ]
  },
  {
   "cell_type": "markdown",
   "id": "73b07087",
   "metadata": {},
   "source": [
    "#### Boxplot Without Outliers"
   ]
  },
  {
   "cell_type": "code",
   "execution_count": null,
   "id": "5f6d539c",
   "metadata": {},
   "outputs": [
    {
     "data": {
      "text/plain": [
       "<Axes: ylabel='Bottles Sold'>"
      ]
     },
     "execution_count": 185,
     "metadata": {},
     "output_type": "execute_result"
    },
    {
     "data": {
      "image/png": "[encoded data removed]",
      "text/plain": [
       "<Figure size 640x480 with 1 Axes>"
      ]
     },
     "metadata": {},
     "output_type": "display_data"
    }
   ],
   "source": [
    "sns.boxplot(y = 'Bottles Sold', data = plot_df)"
   ]
  },
  {
   "cell_type": "markdown",
   "id": "99f4c407",
   "metadata": {},
   "source": [
    "5. The kernel density estimator captures the concentration of the data around various points, and is defined as\n",
    "$$\n",
    "\\hat{f}_{N,h}(z) = \\frac{1}{N} \\sum_{i=1}^N \\frac{1}{h} k \\left( \\frac{x_i - z}{h}\\right)\n",
    "$$\n",
    "where $h$ is the bandwidth and $k()$ is one of the kernel functions from the class materials (Gaussian, Epanechnikov, uniform, triangular).\n",
    "\n",
    "- Write a function that takes the bandwidth $h$ as given, and computes and plots $\\hat{f}_{N,h}(z)$, for the kernels listed in the slides\n",
    "- Write a function that computes the plug-in bandwidth\n",
    "- Use your functions to analyze some numeric variables from a dataset of your choice, using a variety of bandwidths\n",
    "- Compare bandwidths that are greater or less than the plug-in value with the results for the plug-in value. When does the KDE appear to be overfitting? Underfitting?"
   ]
  }
 ],
 "metadata": {
  "kernelspec": {
   "display_name": "ds6001",
   "language": "python",
   "name": "python3"
  },
  "language_info": {
   "codemirror_mode": {
    "name": "ipython",
    "version": 3
   },
   "file_extension": ".py",
   "mimetype": "text/x-python",
   "name": "python",
   "nbconvert_exporter": "python",
   "pygments_lexer": "ipython3",
   "version": "3.13.5"
  }
 },
 "nbformat": 4,
 "nbformat_minor": 5
}
